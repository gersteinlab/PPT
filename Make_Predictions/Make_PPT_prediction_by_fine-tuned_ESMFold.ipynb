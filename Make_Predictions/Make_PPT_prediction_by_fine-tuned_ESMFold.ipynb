{
 "cells": [
  {
   "cell_type": "code",
   "execution_count": 1,
   "id": "ad0728eb",
   "metadata": {},
   "outputs": [],
   "source": [
    "import torch\n",
    "import pandas as pd\n",
    "import pickle\n",
    "from sklearn import metrics\n",
    "import matplotlib.pyplot as plt\n",
    "from sklearn.metrics import classification_report, confusion_matrix, f1_score, recall_score, precision_score, auc \n",
    "from sklearn.metrics import roc_auc_score\n",
    "import numpy as np\n",
    "import gc\n",
    "from torch.utils.data import DataLoader, RandomSampler, SequentialSampler\n",
    "from transformers import get_linear_schedule_with_warmup\n",
    "import time\n",
    "import datetime\n",
    "from scipy.special import softmax\n",
    "from transformers import AdamW, AutoTokenizer,EsmForSequenceClassification, EsmForTokenClassification\n",
    "from sklearn.model_selection import StratifiedKFold\n",
    "from torch.utils.data import TensorDataset, DataLoader\n",
    "from transformers import get_linear_schedule_with_warmup\n",
    "import random\n",
    "import torch.nn.functional as F\n",
    "import numpy as np\n",
    "import io\n",
    "from sklearn.decomposition import PCA\n",
    "import itertools\n",
    "import scipy.stats\n",
    "import seaborn as sns\n",
    "import matplotlib.patches as mpatches"
   ]
  },
  {
   "cell_type": "markdown",
   "id": "d3f15f77",
   "metadata": {},
   "source": [
    "### Read protein sequence"
   ]
  },
  {
   "cell_type": "code",
   "execution_count": 12,
   "id": "0910f3fb",
   "metadata": {},
   "outputs": [
    {
     "name": "stdout",
     "output_type": "stream",
     "text": [
      "Enter protein sequence(s) (one letter for amino acid) to predict phase transition propensity \n",
      "MSKSESPKEPEQLRKLFIGGLSFETTDESLRSHFEQWGTLTDCVVMRDPNTKRSRGFGFVTYATVEEVDAAMNARPHKVDGRVVEPKRAVSREDSQRPGAHLTVKKIFVGGIKEDTEEHHLRDYFEQYGKIEVIEIMTDRGSGKKRGF\n",
      "\n",
      " entered sequence(s): MSKSESPKEPEQLRKLFIGGLSFETTDESLRSHFEQWGTLTDCVVMRDPNTKRSRGFGFVTYATVEEVDAAMNARPHKVDGRVVEPKRAVSREDSQRPGAHLTVKKIFVGGIKEDTEEHHLRDYFEQYGKIEVIEIMTDRGSGKKRGF\n"
     ]
    }
   ],
   "source": [
    "seq = input(\"Enter protein sequence(s) (one letter for amino acid) to predict phase transition propensity \\n\")\n",
    "print('\\n entered sequence(s):', seq)"
   ]
  },
  {
   "cell_type": "code",
   "execution_count": 16,
   "id": "cc279843",
   "metadata": {},
   "outputs": [],
   "source": [
    "### Tokenizing the sequence\n",
    "sequence = [seq]"
   ]
  },
  {
   "cell_type": "code",
   "execution_count": 20,
   "id": "6671963e",
   "metadata": {},
   "outputs": [
    {
     "data": {
      "text/plain": [
       "array(['MSKSESPKEPEQLRKLFIGGLSFETTDESLRSHFEQWGTLTDCVVMRDPNTKRSRGFGFVTYATVEEVDAAMNARPHKVDGRVVEPKRAVSREDSQRPGAHLTVKKIFVGGIKEDTEEHHLRDYFEQYGKIEVIEIMTDRGSGKKRGF'],\n",
       "      dtype=object)"
      ]
     },
     "execution_count": 20,
     "metadata": {},
     "output_type": "execute_result"
    }
   ],
   "source": [
    "d = {'sequence': sequence}\n",
    "\n",
    "df = pd.DataFrame(data=d)\n",
    "\n",
    "# Get the lists of sequences \n",
    "sequences = df.sequence.values\n",
    "sequences"
   ]
  },
  {
   "cell_type": "code",
   "execution_count": 21,
   "id": "2e5103f1",
   "metadata": {},
   "outputs": [],
   "source": [
    "## define tokenizer\n",
    "tokenizer = AutoTokenizer.from_pretrained(\"facebook/esm2_t6_8M_UR50D\")"
   ]
  },
  {
   "cell_type": "code",
   "execution_count": 22,
   "id": "95c3db7f",
   "metadata": {},
   "outputs": [
    {
     "name": "stderr",
     "output_type": "stream",
     "text": [
      "Truncation was not explicitly activated but `max_length` is provided a specific value, please use `truncation=True` to explicitly truncate examples to max length. Defaulting to 'longest_first' truncation strategy. If you encode pairs of sequences (GLUE-style) with the tokenizer you can select this strategy more precisely by providing a specific strategy to `truncation`.\n"
     ]
    },
    {
     "name": "stdout",
     "output_type": "stream",
     "text": [
      "Original:  MSKSESPKEPEQLRKLFIGGLSFETTDESLRSHFEQWGTLTDCVVMRDPNTKRSRGFGFVTYATVEEVDAAMNARPHKVDGRVVEPKRAVSREDSQRPGAHLTVKKIFVGGIKEDTEEHHLRDYFEQYGKIEVIEIMTDRGSGKKRGF\n",
      "Token IDs: tensor([ 0, 20,  8,  ...,  1,  1,  1])\n",
      "1\n",
      "1100\n"
     ]
    },
    {
     "name": "stderr",
     "output_type": "stream",
     "text": [
      "/gpfs/gibbs/pi/gerstein/mbf34/conda_envs/env_name2/lib/python3.11/site-packages/transformers/tokenization_utils_base.py:2339: FutureWarning: The `pad_to_max_length` argument is deprecated and will be removed in a future version, use `padding=True` or `padding='longest'` to pad to the longest sequence in the batch, or use `padding='max_length'` to pad to a max length. In this case, you can give a specific length with `max_length` (e.g. `max_length=45`) or leave max_length to None to pad to the maximal input size of the model (e.g. 512 for Bert).\n",
      "  warnings.warn(\n"
     ]
    }
   ],
   "source": [
    "# Tokenize all of the sequences \n",
    "input_ids = []\n",
    "attention_masks = []\n",
    "\n",
    "# For every sequence...\n",
    "for seq in sequences:\n",
    "    # `encode_plus` does:\n",
    "    #   1. Tokenize the sequence.\n",
    "    #   2. Place the start token.\n",
    "    #   3. Append the end token to the end.\n",
    "    #   4. Pad or truncate the sequence to `max_length`\n",
    "    #   5. Create attention masks for padding the tokens.\n",
    "    encoded_dict = tokenizer.encode_plus(\n",
    "                        seq,                      # sequence to encode.\n",
    "                        add_special_tokens = True, # Add start and end tokens to begin and end of the sequence\n",
    "                        max_length = 1100, # Pad & truncate all sequences.  ### !!! 1100\n",
    "                        pad_to_max_length = True,\n",
    "                        return_attention_mask = True,   # Construct attention masks\n",
    "                        return_tensors = 'pt',     # Return pytorch tensors\n",
    "                   )\n",
    "    \n",
    "    # Add the encoded sequence to the list.    \n",
    "    input_ids.append(encoded_dict['input_ids'])\n",
    "    \n",
    "    # and add its attention mask (differentiates padding from non-padding).\n",
    "    attention_masks.append(encoded_dict['attention_mask'])\n",
    "\n",
    "# Convert the lists into tensors.\n",
    "input_ids = torch.cat(input_ids, dim=0)\n",
    "attention_masks = torch.cat(attention_masks, dim=0)\n",
    "\n",
    "\n",
    "\n",
    "# Print sequence 0, as a list of token IDs.\n",
    "print('Original: ', sequences[0])\n",
    "print('Token IDs:', input_ids[0])\n",
    "#print('labels:', labels[0])\n",
    "print(len(sequences))\n",
    "print(len(input_ids[0]))"
   ]
  },
  {
   "cell_type": "markdown",
   "id": "a8fce0f0",
   "metadata": {},
   "source": [
    "### Masking regions in the protein seqeunce (optional)"
   ]
  },
  {
   "cell_type": "code",
   "execution_count": 1,
   "id": "caebf7ff",
   "metadata": {},
   "outputs": [],
   "source": [
    "### Optional ### if the user would like to make predictions while masking some positions###\n",
    "def masking_regions(attention_masks):\n",
    "    \n",
    "    ## user put the region in sequence to mask:\n",
    "    start_mask = 500\n",
    "    end_mask = 600\n",
    "    \n",
    "    mask = torch.tensor([i for i in range(start_mask,end_mask)]) # masking range\n",
    "    attention_masks[:, mask] = 0\n",
    "    \n",
    "    return (attention_masks)"
   ]
  },
  {
   "cell_type": "code",
   "execution_count": null,
   "id": "40ba54e5",
   "metadata": {},
   "outputs": [],
   "source": [
    "### optional!!! user run this cell to mask regions within the sequence\n",
    "attention_masks = masking_regions(attention_masks)"
   ]
  },
  {
   "cell_type": "markdown",
   "id": "96bcdbc2",
   "metadata": {},
   "source": [
    "### make predictions of protein phase transition by the fine-tuned ESMFold:\n",
    "(1) for classification task A (+Droplet drivers & +Amyloids versus -PT) user should choose: final_files/ESM_das_final.pth. Amino acid sequences with labels:  0 +Droplet drivers & +Amyloids 1 -PT\n",
    "\n",
    "(2) for classification task B (+Droplet drivers & +Amyloids versus -PT) user should choose: \n",
    "final_files/ESM_DA_final.pth. Amino acid sequences with labels: 0 - +Amyloids 1 - +Droplet drivers"
   ]
  },
  {
   "cell_type": "code",
   "execution_count": 24,
   "id": "7f1ed891",
   "metadata": {},
   "outputs": [],
   "source": [
    "def format_time(elapsed):\n",
    "    '''\n",
    "    Takes a time in seconds and returns a string hh:mm:ss\n",
    "    '''\n",
    "    # Round to the nearest second.\n",
    "    elapsed_rounded = int(round((elapsed)))\n",
    "    \n",
    "    # Format as hh:mm:ss\n",
    "    return str(datetime.timedelta(seconds=elapsed_rounded))"
   ]
  },
  {
   "cell_type": "code",
   "execution_count": 41,
   "id": "a39bb53c",
   "metadata": {},
   "outputs": [
    {
     "name": "stdout",
     "output_type": "stream",
     "text": [
      "\n",
      "Running Prediction...\n",
      "Prediction took: 0:00:00\n",
      "\n",
      " predicted logits are tensor([-0.7458,  0.9647])\n",
      "\n",
      " predicted probabilities [[0.15310633 0.84689367]]\n",
      "transition score: [-1.7104424834251404]\n"
     ]
    }
   ],
   "source": [
    "# ==========================================================================\n",
    "#               test on external test set usge: 3 cores & 3 nodes with 1 gpu\n",
    "# ==========================================================================\n",
    "\n",
    "#device = torch.device(\"cuda:0\" if torch.cuda.is_available() else \"cpu\")\n",
    "device = torch.device(\"cpu\")\n",
    "\n",
    "#del saved_model \n",
    "seed_val = 42\n",
    "\n",
    "random.seed(seed_val)\n",
    "np.random.seed(seed_val)\n",
    "torch.manual_seed(seed_val)\n",
    "torch.cuda.manual_seed_all(seed_val)\n",
    "\n",
    "## load a model to predict +Droplet drivers & +Amyloids versus -PT\n",
    "#saved_model = torch.load('final_files/ESM_das_final.pth',  map_location=torch.device('cpu')) \n",
    "\n",
    "\n",
    "## load a model to predict +droplet drivers versus +amyloids\n",
    "saved_model = torch.load('final_files/ESM_DA_final.pth',  map_location=torch.device('cpu')) \n",
    "\n",
    "\n",
    "#turn off for unlabeled seqeunces (such as AMP-AD sequences)\n",
    "## use only for labeled sequences - to load the external text set\n",
    "#train_dataloader, validation_dataloader = get_train_test_data(train_dataset_idx, val_dataset_idx, \n",
    "                                                              #input_ids, attention_masks, labels)\n",
    "\n",
    "\n",
    "## for unlabeled sequences\n",
    "val_dataset = TensorDataset(input_ids, attention_masks)\n",
    "validation_dataloader = DataLoader(dataset=val_dataset)\n",
    "    \n",
    "print(\"\")\n",
    "print(\"Running Prediction...\")\n",
    "\n",
    "t0 = time.time()\n",
    "\n",
    "# Put the model in evaluation mode\n",
    "saved_model.eval()\n",
    "\n",
    "# Tracking variables \n",
    "predicted_class_id_all = []\n",
    "probabilities_all = []\n",
    "label_ids_all = []\n",
    "predicted_param =[]\n",
    "logits_all = []\n",
    "logits_save = []\n",
    "results_all = []\n",
    "\n",
    "# make predictions for all batches (1 epoch)\n",
    "for batch in validation_dataloader:\n",
    "        \n",
    "        # Unpack the test batch from our dataloader and copy to the GPU. \n",
    "            #    0: input ids \n",
    "            #    1: attention masks\n",
    "            #    2: labels    #### not used for unlabeled sequences\n",
    "        b_input_ids = batch[0].to(device)\n",
    "        b_input_mask = batch[1].to(device)\n",
    "        \n",
    "        \n",
    "        # Gradients are not computed \n",
    "        with torch.no_grad():        \n",
    "\n",
    "            #load saved model\n",
    "            results = saved_model(b_input_ids, \n",
    "                                   attention_mask=b_input_mask,\n",
    "                                  output_hidden_states = True, output_attentions=True)\n",
    "            results_all.append(results.hidden_states)\n",
    "\n",
    "        # Move logits and labels to CPU\n",
    "        #logits = logits.detach().cpu().numpy()\n",
    "        logits = torch.detach(results.logits[0])\n",
    "        \n",
    "\n",
    "        ## accumulate predicted classes, logits and true labels from all the batches\n",
    "        predicted_class_id = [results.logits[i].argmax().item() for i in range(0, len(results.logits))]\n",
    "        logits_all.append(results.logits)\n",
    "        predicted_class_id = [results.logits[i].argmax().item() for i in range(0, len(results.logits))]\n",
    "        predicted_class_id_all.extend(predicted_class_id)\n",
    "        \n",
    "    \n",
    "        # Measure how long the validation run took.\n",
    "        validation_time = format_time(time.time() - t0)\n",
    "        \n",
    "        print(\"Prediction took: {:}\".format(validation_time))\n",
    "        print('\\n predicted logits are', logits)\n",
    "        \n",
    "        \n",
    "        ### Compute transition score\n",
    "        for i in logits_all:\n",
    "            logits_save.append(i[0].tolist())\n",
    "        probabilities = softmax(logits_save, axis=1)\n",
    "        print('\\n predicted probabilities',probabilities)\n",
    "        \n",
    "        LLM_score = []\n",
    "        for i in probabilities:   \n",
    "            LLM_score.append(np.log(i[0]/i[1]))\n",
    "        print('transition score:', LLM_score)"
   ]
  },
  {
   "cell_type": "markdown",
   "id": "6053c8c6",
   "metadata": {},
   "source": [
    "### Extract Attention map"
   ]
  },
  {
   "cell_type": "code",
   "execution_count": 45,
   "id": "d89ad8cf",
   "metadata": {},
   "outputs": [],
   "source": [
    "def self_attention(predicted_results, seq_len):\n",
    "    \n",
    "    \"input: predicted_results: model output (predictions),seq_len: sequence length\"\n",
    "    \"Output: mean self attention map of all the 20 attention heads\"\n",
    "    \n",
    "    fig = plt.figure()\n",
    "    ax = fig.add_subplot(111)\n",
    "    cax=ax.matshow((predicted_results.mean(0)[:seq_len,:seq_len])   ##plt\n",
    "                , vmin=0, vmax=0.1 ,cmap=plt.cm.Spectral_r)\n",
    "    \n",
    "    # Set xticks and yticks\n",
    "  \n",
    "    plt.xticks(fontsize=17)\n",
    "    plt.yticks(fontsize=17)\n",
    "    \n",
    "    #plt.xlim(0,50)\n",
    "    #plt.ylim(50,0)\n",
    "    \n",
    "    startp=0\n",
    "    endp=10     # true lenght of the sequence\n",
    "    plt.xlim(startp+1,endp-1)\n",
    "    plt.ylim(endp-1,startp+1)\n",
    "    \n",
    "    \n",
    "    plt.box(False)\n",
    "    plt.tick_params(bottom = False)\n",
    "    #cbar=plt.colorbar(shrink=0.8)\n",
    "    cbar=fig.colorbar(cax,shrink=0.8)\n",
    "    cbar.set_label(label='Attention score', fontsize=17)\n",
    "    cbar.ax.tick_params(labelsize=17)\n",
    "    \n",
    "    ax.set(xticks=[i for i in range (startp,endp+1,2)], xticklabels= [i for i in range (startp+1,endp+2,2)],\n",
    "           yticks=[i for i in range (startp,endp+1,2)], yticklabels= [i for i in range (startp+1,endp+2,2)])\n",
    "    \n",
    "    # for plotting 0-50\n",
    "    #ax.set(xticks=[i for i in range (startp,endp,20)], xticklabels= [i for i in range (startp,endp,20)],\n",
    "           #yticks=[i for i in range (startp,endp,20)], yticklabels= [i for i in range (startp,endp,20)])\n",
    "  \n",
    "        \n",
    "    print((predicted_results.mean(0)[:seq_len,:seq_len])[startp:endp,startp:endp])\n",
    "    my_mat = (predicted_results.mean(0)[:seq_len,:seq_len])[startp:endp,startp:endp]\n",
    "    print(my_mat.shape)\n",
    "   \n",
    "    return(my_mat)"
   ]
  },
  {
   "cell_type": "code",
   "execution_count": 46,
   "id": "c1573bfc",
   "metadata": {},
   "outputs": [
    {
     "name": "stdout",
     "output_type": "stream",
     "text": [
      "tensor([[0.2464, 0.1091, 0.0679, 0.0455, 0.0365, 0.0222, 0.0202, 0.0152, 0.0187,\n",
      "         0.0108],\n",
      "        [0.2584, 0.1560, 0.0818, 0.0615, 0.0492, 0.0318, 0.0327, 0.0172, 0.0208,\n",
      "         0.0086],\n",
      "        [0.2020, 0.1820, 0.0887, 0.0624, 0.0708, 0.0408, 0.0330, 0.0209, 0.0217,\n",
      "         0.0086],\n",
      "        [0.1428, 0.1424, 0.1089, 0.0691, 0.0644, 0.0517, 0.0483, 0.0310, 0.0256,\n",
      "         0.0122],\n",
      "        [0.1266, 0.1210, 0.0699, 0.1060, 0.0783, 0.0451, 0.0485, 0.0408, 0.0283,\n",
      "         0.0160],\n",
      "        [0.1045, 0.0859, 0.0745, 0.0612, 0.1008, 0.0583, 0.0574, 0.0514, 0.0432,\n",
      "         0.0213],\n",
      "        [0.1074, 0.0700, 0.0466, 0.0759, 0.0664, 0.1020, 0.0752, 0.0482, 0.0481,\n",
      "         0.0347],\n",
      "        [0.0893, 0.0474, 0.0277, 0.0547, 0.0747, 0.0616, 0.1002, 0.0567, 0.0439,\n",
      "         0.0308],\n",
      "        [0.0697, 0.0322, 0.0161, 0.0305, 0.0356, 0.0525, 0.0545, 0.0834, 0.0830,\n",
      "         0.0353],\n",
      "        [0.0518, 0.0321, 0.0159, 0.0273, 0.0240, 0.0369, 0.0568, 0.0440, 0.0940,\n",
      "         0.0395]])\n",
      "torch.Size([10, 10])\n"
     ]
    },
    {
     "data": {
      "image/png": "[encoded data removed]",
      "text/plain": [
       "<Figure size 640x480 with 2 Axes>"
      ]
     },
     "metadata": {},
     "output_type": "display_data"
    }
   ],
   "source": [
    "### calculate self attention map\n",
    "my_matA = self_attention(results['attentions'][5][0],  b_input_ids.shape[1])"
   ]
  }
 ],
 "metadata": {
  "kernelspec": {
   "display_name": "Python 3 (ipykernel)",
   "language": "python",
   "name": "python3"
  },
  "language_info": {
   "codemirror_mode": {
    "name": "ipython",
    "version": 3
   },
   "file_extension": ".py",
   "mimetype": "text/x-python",
   "name": "python",
   "nbconvert_exporter": "python",
   "pygments_lexer": "ipython3",
   "version": "3.11.0"
  }
 },
 "nbformat": 4,
 "nbformat_minor": 5
}
