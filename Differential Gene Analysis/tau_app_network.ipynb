{
 "cells": [
  {
   "cell_type": "code",
   "execution_count": null,
   "id": "f189a440-a810-4848-bd7c-2a5f544ac8f2",
   "metadata": {},
   "outputs": [],
   "source": [
    "import pyreadr"
   ]
  },
  {
   "cell_type": "code",
   "execution_count": null,
   "id": "7f6e7b94-34ff-46d3-b6ed-d2938ade53f0",
   "metadata": {},
   "outputs": [],
   "source": [
    "# paser dorothea network\n",
    "tf_annotation = pyreadr.read_r(\"dorothea/inst/extdata/annotations/tf_annotation.rds\")[None]\n",
    "df_ad_control = pd.read_csv(\"Control_AD_covariates_msex_apoe_genotype_age.txt\", sep=\"\\t\",header=0,index_col=None)\n",
    "df_ad_control = df_ad_control.reset_index()\n",
    "grn_data = pyreadr.read_r('dorothea_hs.rda')\n",
    "grn = grn_data['dorothea_hs']"
   ]
  },
  {
   "cell_type": "code",
   "execution_count": null,
   "id": "c32910bf-3179-4422-8318-906aac06d423",
   "metadata": {},
   "outputs": [],
   "source": [
    "# get the subnets of APP and MAPT\n",
    "grn_app = grn[grn['target'] == 'APP']\n",
    "grn_app_tf = grn_app.merge(tf_annotation, left_on='tf', right_on='tf')\n",
    "grn_app_tf_DE = grn_app_tf.merge(df_ad_control, left_on='tf', right_on='index')\n",
    "\n",
    "grn_app_tf_DE.loc[grn_app_tf_DE['mor'] == 1.0, 'color'] = 'blue'\n",
    "grn_app_tf_DE.loc[grn_app_tf_DE['mor'] == -1.0, 'color'] = 'red'\n",
    "grn_app_tf_DE.to_csv(\"APP_TF_network.csv\",header=True, index=False)\n",
    "grn_app = grn[grn['target'] == 'MAPT']\n",
    "grn_app_tf = grn_app.merge(tf_annotation, left_on='tf', right_on='tf')\n",
    "grn_app_tf_DE = grn_app_tf.merge(df_ad_control, left_on='tf', right_on='index')\n",
    "\n",
    "grn_app_tf_DE.loc[grn_app_tf_DE['mor'] == 1.0, 'color'] = 'blue'\n",
    "grn_app_tf_DE.loc[grn_app_tf_DE['mor'] == -1.0, 'color'] = 'red'\n",
    "grn_app_tf_DE.to_csv(\"MAPT_TF_network.csv\",header=True, index=False)"
   ]
  }
 ],
 "metadata": {
  "kernelspec": {
   "display_name": "Python 3 (ipykernel)",
   "language": "python",
   "name": "python3"
  },
  "language_info": {
   "codemirror_mode": {
    "name": "ipython",
    "version": 3
   },
   "file_extension": ".py",
   "mimetype": "text/x-python",
   "name": "python",
   "nbconvert_exporter": "python",
   "pygments_lexer": "ipython3",
   "version": "3.10.10"
  }
 },
 "nbformat": 4,
 "nbformat_minor": 5
}
