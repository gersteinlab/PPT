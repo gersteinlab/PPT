{
 "cells": [
  {
   "cell_type": "code",
   "execution_count": null,
   "id": "98a231a7-3187-4240-83a1-0a380c3de7cc",
   "metadata": {
    "tags": []
   },
   "outputs": [],
   "source": [
    "import pandas as pd\n",
    "import seaborn as sns\n",
    "import matplotlib.pyplot as plt\n",
    "import torch\n",
    "import pickle as pkl\n",
    "import glob\n",
    "import numpy as np\n",
    "from scipy import stats\n",
    "plt.rcParams['svg.fonttype'] = 'none'"
   ]
  },
  {
   "cell_type": "code",
   "execution_count": null,
   "id": "c10167c8-6543-4f77-822e-6c062f8438f6",
   "metadata": {
    "tags": []
   },
   "outputs": [],
   "source": [
    "###########\n",
    "\n",
    "def compute_Li_sliding_window_div(file_name):\n",
    "\n",
    "    with open(file_name, 'rb') as f:\n",
    "        predicted_attentionA = pkl.load(f)\n",
    "\n",
    "    attention_raw = predicted_attentionA.mean(0)\n",
    "    last_non_zero_index = (attention_raw.sum(0) != 0).nonzero(as_tuple=False).max()\n",
    "    attention = attention_raw[:last_non_zero_index+1, :last_non_zero_index+1]\n",
    "\n",
    "    window_size = 5\n",
    "    stride = 1\n",
    "    rows, cols = attention.shape\n",
    "    \n",
    "    num_windows = (rows - window_size) // stride + 1\n",
    "\n",
    "    Li_list = []\n",
    "    for i in range(num_windows):\n",
    "        # Calculate the starting indices for the current window along the diagonal\n",
    "        start_i = i\n",
    "        start_j = i\n",
    "\n",
    "        # Calculate the ending indices for the current window\n",
    "        end_i = start_i + window_size\n",
    "        end_j = start_j + window_size\n",
    "\n",
    "        window = attention[start_i:end_i, start_j:end_j]\n",
    "        window_median = torch.median(window,0)[0]\n",
    "        dist = torch.mean(torch.abs(torch.topk(np.transpose(window), 5).indices - torch.range(0, window_size-1).reshape(window_size, -1)),1)\n",
    "        Li = window_median/dist\n",
    "        window_Li = torch.mean(Li)\n",
    "        Li_list.append(window_Li.reshape(1))\n",
    "\n",
    "    Li_results = torch.cat(Li_list).numpy()\n",
    "    df_Li = pd.DataFrame(data=Li_results).reset_index()\n",
    "\n",
    "    #df_Li.to_csv(f\"{file_name}.csv\")\n",
    "    df_Li.to_csv(f\"{file_name}.{window_size}.div.csv\")"
   ]
  },
  {
   "cell_type": "code",
   "execution_count": null,
   "id": "2178447b-6858-4d95-bc27-afe20de43a5a",
   "metadata": {},
   "outputs": [],
   "source": []
  },
  {
   "cell_type": "code",
   "execution_count": null,
   "id": "70a64273-cebd-4f4a-a900-2fb1a910f955",
   "metadata": {
    "tags": []
   },
   "outputs": [],
   "source": [
    "file_list = glob.glob(\"*attention*long*\")\n",
    "for file_name in file_list:\n",
    "    compute_Li_sliding_window_div(file_name)"
   ]
  },
  {
   "cell_type": "code",
   "execution_count": null,
   "id": "60cf7f2c-ebce-4cfb-a350-6b0a406d265d",
   "metadata": {},
   "outputs": [],
   "source": []
  },
  {
   "cell_type": "code",
   "execution_count": null,
   "id": "b3f3fecf-f1ad-408e-b781-d030be6460d0",
   "metadata": {},
   "outputs": [],
   "source": []
  },
  {
   "cell_type": "code",
   "execution_count": null,
   "id": "b0d58a84-23c4-4e90-8533-ab96be645e36",
   "metadata": {
    "tags": []
   },
   "outputs": [],
   "source": [
    "gene_list = ['APP', 'g3bp1', 'hnRNPA1', 'tau', 'FUS']\n",
    "window_size = 5\n",
    "half_win = 2\n",
    "\n",
    "for gene in gene_list:\n",
    "    df_A = pd.read_csv(f\"{gene}_WT_predicted_attentionA_long_A.{window_size}.div.csv\", header=0,index_col=0)\n",
    "    df_B = pd.read_csv(f\"{gene}_WT_predicted_attentionB_long_B.{window_size}.div.csv\", header=0,index_col=0)\n",
    "    df_A_B = pd.concat([df_A,df_B], axis=1).drop('index', axis=1)\n",
    "    df_A_B.columns = ['A', 'B']\n",
    "    s, p = stats.ttest_ind(df_A_B['A'], df_A_B['B'])\n",
    "    \n",
    "    \n",
    "    row, col = df_A_B.shape\n",
    "    \n",
    "    fig, ax = plt.subplots(1,1, figsize=(8,6), dpi=300)\n",
    "    df_A_B.plot(ax=ax)\n",
    "    ax.set_ylabel(\"Li Score\")\n",
    "    ax.set_xlabel(\"Position\")\n",
    "    xticks = ax.get_xticks()\n",
    "    new_xtick_labels = [f\"{int(label) + half_win}\" for label in xticks]\n",
    "    ax.set_xticklabels(new_xtick_labels)\n",
    "    ax.text(0.5, 0.8, f\"t test:p={p:.2f}\",  transform=ax.transAxes)\n",
    "    \n",
    "    \n",
    "    plt.savefig(f\"{gene}_WT_predicted_attention_long_A_B.{window_size}.div.png\")\n",
    "    plt.savefig(f\"{gene}_WT_predicted_attention_long_A_B.{window_size}.div.svg\")\n",
    "    \n",
    "    \n",
    "    fig, ax = plt.subplots(1,1, figsize=(8,6), dpi=300)\n",
    "    df_A_B.plot(ax=ax)\n",
    "    ax.set_ylabel(\"Li Score\")\n",
    "    ax.set_xlabel(\"Position\")\n",
    "    ax.set_xlim(0,50)\n",
    "    xticks = ax.get_xticks()\n",
    "    new_xtick_labels = [f\"{int(label) + half_win}\" for label in xticks]\n",
    "    ax.set_xticklabels(new_xtick_labels)\n",
    "    plt.savefig(f\"{gene}_WT_predicted_attention_long_A_B_50_zoomin.{window_size}.div.png\")\n",
    "    plt.savefig(f\"{gene}_WT_predicted_attention_long_A_B_50_zoomin.{window_size}.div.svg\")"
   ]
  },
  {
   "cell_type": "code",
   "execution_count": null,
   "id": "2f5adc1d-0cf6-49ac-a26c-e8d612f0d454",
   "metadata": {},
   "outputs": [],
   "source": []
  }
 ],
 "metadata": {
  "kernelspec": {
   "display_name": "Python 3 (ipykernel)",
   "language": "python",
   "name": "python3"
  },
  "language_info": {
   "codemirror_mode": {
    "name": "ipython",
    "version": 3
   },
   "file_extension": ".py",
   "mimetype": "text/x-python",
   "name": "python",
   "nbconvert_exporter": "python",
   "pygments_lexer": "ipython3",
   "version": "3.10.10"
  }
 },
 "nbformat": 4,
 "nbformat_minor": 5
}
